{
 "cells": [
  {
   "cell_type": "code",
   "execution_count": 2,
   "metadata": {},
   "outputs": [
    {
     "name": "stdout",
     "output_type": "stream",
     "text": [
      "Planilha criada: historico_btg_pactual.xlsx\n"
     ]
    }
   ],
   "source": [
    "import yfinance as yf\n",
    "import pandas as pd\n",
    "\n",
    "# Baixar dados históricos do BTG Pactual (BPAC11)\n",
    "btg = yf.Ticker(\"BPAC11.SA\")\n",
    "historico = btg.history(period=\"max\")\n",
    "\n",
    "# Remover timezone das datas\n",
    "historico.index = historico.index.tz_convert(None)\n",
    "\n",
    "# Salvando para Excel\n",
    "historico.to_excel(\"historico_btg_pactual.xlsx\")\n",
    "\n",
    "print(\"Planilha criada: historico_btg_pactual.xlsx\")\n"
   ]
  },
  {
   "cell_type": "markdown",
   "metadata": {},
   "source": [
    "estudar a aula passada do dashbord\n",
    "\n",
    "colocar a minha analise, colocando uma racioncio proprio\n",
    "\n",
    "disdiscutir com mais profundidade\n",
    "\n",
    "tirar as colunas que nao sei o que é\n",
    "\n",
    "pode tirar dados desde que discuta ainda mais profundo\n",
    "\n",
    "saiba do que sao os dados e o que de util pode tirar de la"
   ]
  }
 ],
 "metadata": {
  "kernelspec": {
   "display_name": "Python 3",
   "language": "python",
   "name": "python3"
  },
  "language_info": {
   "codemirror_mode": {
    "name": "ipython",
    "version": 3
   },
   "file_extension": ".py",
   "mimetype": "text/x-python",
   "name": "python",
   "nbconvert_exporter": "python",
   "pygments_lexer": "ipython3",
   "version": "3.11.9"
  }
 },
 "nbformat": 4,
 "nbformat_minor": 2
}
